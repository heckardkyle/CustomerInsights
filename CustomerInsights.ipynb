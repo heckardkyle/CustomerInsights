{
 "cells": [
  {
   "cell_type": "markdown",
   "id": "f68239e8-487c-4b48-b16d-507e233b1586",
   "metadata": {
    "editable": true,
    "panel-layout": {
     "height": 60.5966,
     "visible": true,
     "width": 100
    },
    "slideshow": {
     "slide_type": ""
    },
    "tags": []
   },
   "source": [
    "# Customer Insights"
   ]
  },
  {
   "cell_type": "markdown",
   "id": "fffdfe99-f040-4d5e-9eff-db7dacd584e8",
   "metadata": {},
   "source": [
    "## Customer No-Show / Cancellation Prediction Application"
   ]
  },
  {
   "cell_type": "code",
   "execution_count": null,
   "id": "1134d12a-acc5-4055-8789-23c8d188da13",
   "metadata": {},
   "outputs": [],
   "source": [
    "%run CIApplication.py"
   ]
  },
  {
   "cell_type": "markdown",
   "id": "c4369ef5-dc33-4cd4-872b-f106ebf47c5e",
   "metadata": {
    "editable": true,
    "raw_mimetype": "",
    "slideshow": {
     "slide_type": ""
    },
    "tags": []
   },
   "source": [
    "## Instructions"
   ]
  },
  {
   "cell_type": "markdown",
   "id": "db603a58-d82f-4019-a630-e3ed62420048",
   "metadata": {},
   "source": [
    "### Application Instructions\n",
    "\n",
    "1. Launch the application above by clicking the code cell that says \"%run CIApplication.py,\" then press the play button icon above to run it.\n",
    "   - This will launch the CIApplication.py file, seen in the file explorer on the left.\n",
    "   - First, it will install any necessary packages to run the application.\n",
    "   - Second, it is going to import the CSV files Clients.csv and Appointments.csv, prepare them, and then train the machine-learning model\n",
    "   - Third, it will open the User Form to enter data to build prediction.\n",
    "   - The application will print statements throughout the process to inform you of its progress.\n",
    "<br><br>\n",
    "2. Enter data in the UserForm, then click the button that says \"Make Prediction.\"\n",
    "   - This will take any data you entered, run it through the trained model, display the chances of No-Shows and Cancellations, and display some data plots.\n",
    "   - Information can be left blank. If information is left blank, it will be filled with modes for those characteristics to run the model.\n",
    "<br><br>\n",
    "3. In the Tab widget, click through each tab to see information about the data.\n",
    "<br><br>\n",
    "4. You can enter new data into the UserForm and click \"Make Prediction\" again to display a new prediction.\n",
    "<br><br>\n",
    "<i>Note: Instead of launching the application using the play button, you can use the fast forward button, which will also run all codes below in advance.<br>\n",
    "But you cannot make a prediction using the Application until all code cells below have finished running.<br>\n",
    "If you click \"Make Prediction\" before the cells have finished running, it will process the prediction once the other cells have finished.</i>"
   ]
  },
  {
   "cell_type": "markdown",
   "id": "665fecb3-5565-4a66-ad6a-cbc71ce2f822",
   "metadata": {},
   "source": [
    "### Code Walkthrough Instructions\n",
    "\n",
    "Below is a code walkthrough that walks you through my code process on how I:\n",
    "- Prepared the data\n",
    "- Trained the machine learning model\n",
    "- Created plots\n",
    "\n",
    "As you read through this notebook, click on each code cell, then click the play button at the top of the page to run the code cell and display the output.<br>\n",
    "After running a code cell, a print statement will be shown to help indicate that the code cell has finished running.<br>\n",
    "<br>\n",
    "There is a lot of code, so if at any point you get lost, access the table of contents on the left side (icon with 3 bars).\n",
    "<br>\n",
    "<br>\n",
    "<i>Note: You can also click the fast forward button at the top of the page to restart the kernel and run all cells in advance.<br>\n",
    "But the cells below won't run until the code cell above has finished running.</i>"
   ]
  },
  {
   "cell_type": "markdown",
   "id": "dc434052-179e-468f-915e-fdb7297d2f1a",
   "metadata": {
    "editable": true,
    "raw_mimetype": "",
    "slideshow": {
     "slide_type": ""
    },
    "tags": []
   },
   "source": [
    "## Purpose of Application\n",
    "\n",
    "The purpose of this application is to predict the chance of a Customer canceling the appointment or not showing up to the appointment (No-Show). <br>\n",
    "This application uses a calibrated Random Forest Classification machine-learning model trained on client and appointment data. <br>\n",
    "<br>\n",
    "I built this application to test the hypothesis that the no-shows and cancellations are driven mainly by the <b>Age</b> of customers.<br>\n",
    "<br>\n",
    "Note:<br>\n",
    "<i>The full original program to build and test this code can be found in CustomerInsights.py.<br>\n",
    "If you run CustomerInsights.py, it will run the full code and make a prediction using randomized input.<i>"
   ]
  },
  {
   "cell_type": "markdown",
   "id": "4cb69050-085b-42c1-b407-789416f8fb4d",
   "metadata": {},
   "source": [
    "## Code Walkthrough"
   ]
  },
  {
   "cell_type": "markdown",
   "id": "f6469cbe-b0f1-4430-b058-3b27348eb84a",
   "metadata": {
    "editable": true,
    "raw_mimetype": "",
    "slideshow": {
     "slide_type": ""
    },
    "tags": []
   },
   "source": [
    "### Download Packages\n",
    "\n",
    "First, we must install all the packages required to run this application.<br>\n",
    "<br>\n",
    "The packages that this application is dependent on are:\n",
    "- pandas       (Data importing and preparation)\n",
    "- imblearn     (Balance data via oversampling and undersampling)\n",
    "- scikit-learn (Train and verify machine-learning model)\n",
    "- matplotlib   (Visualizations)\n",
    "- seaborn      (Visualizations)"
   ]
  },
  {
   "cell_type": "code",
   "execution_count": 2,
   "id": "8f547d74-2fb3-4ddd-a4a5-c05dbb720be4",
   "metadata": {
    "editable": true,
    "slideshow": {
     "slide_type": ""
    },
    "tags": []
   },
   "outputs": [
    {
     "name": "stdout",
     "output_type": "stream",
     "text": [
      "pandas is already installed\n",
      "matplotlib is already installed\n",
      "seaborn is already installed\n",
      "Requirement already satisfied: scikit-learn in /srv/conda/envs/notebook/lib/python3.10/site-packages (1.5.2)\n",
      "Requirement already satisfied: numpy>=1.19.5 in /srv/conda/envs/notebook/lib/python3.10/site-packages (from scikit-learn) (2.1.2)\n",
      "Requirement already satisfied: scipy>=1.6.0 in /srv/conda/envs/notebook/lib/python3.10/site-packages (from scikit-learn) (1.14.1)\n",
      "Requirement already satisfied: joblib>=1.2.0 in /srv/conda/envs/notebook/lib/python3.10/site-packages (from scikit-learn) (1.4.2)\n",
      "Requirement already satisfied: threadpoolctl>=3.1.0 in /srv/conda/envs/notebook/lib/python3.10/site-packages (from scikit-learn) (3.5.0)\n",
      "imblearn is already installed\n",
      "\n",
      "Finished installing packages\n"
     ]
    }
   ],
   "source": [
    "import importlib.util\n",
    "import subprocess\n",
    "import sys\n",
    "\n",
    "def install_and_import(package):\n",
    "    if importlib.util.find_spec(package) is None:\n",
    "        subprocess.check_call([sys.executable, \"-m\", \"pip\", \"install\", package])\n",
    "    else:\n",
    "        print(f\"{package} is already installed\")\n",
    "\n",
    "install_and_import('pandas')\n",
    "install_and_import('matplotlib')\n",
    "install_and_import('seaborn')\n",
    "install_and_import('scikit-learn')\n",
    "install_and_import('imblearn')\n",
    "\n",
    "print('')\n",
    "print('Finished installing packages')"
   ]
  },
  {
   "cell_type": "markdown",
   "id": "51c82bbe-76a6-44d2-b09d-f89d120b3d0c",
   "metadata": {
    "editable": true,
    "raw_mimetype": "",
    "slideshow": {
     "slide_type": ""
    },
    "tags": []
   },
   "source": [
    "### Import Libraries\n",
    "\n",
    "Next, we will import all of the libraries this application uses."
   ]
  },
  {
   "cell_type": "code",
   "execution_count": 3,
   "id": "e44872d9-15f4-40fd-8357-734885b463fd",
   "metadata": {
    "editable": true,
    "slideshow": {
     "slide_type": ""
    },
    "tags": []
   },
   "outputs": [
    {
     "name": "stdout",
     "output_type": "stream",
     "text": [
      "Libraries imported\n"
     ]
    }
   ],
   "source": [
    "# %% Import libraries\n",
    "\n",
    "import pandas as pd\n",
    "import warnings as warn\n",
    "import numpy as np\n",
    "import matplotlib.pyplot as plt\n",
    "import seaborn as sns\n",
    "from sklearn.model_selection import train_test_split\n",
    "from sklearn.model_selection import StratifiedKFold\n",
    "from sklearn.ensemble import RandomForestClassifier\n",
    "from sklearn.metrics import roc_auc_score\n",
    "from sklearn.metrics import roc_curve\n",
    "from sklearn.metrics import auc\n",
    "from sklearn.calibration import CalibratedClassifierCV\n",
    "from datetime import datetime\n",
    "from imblearn.combine import SMOTETomek\n",
    "import random as rand\n",
    "\n",
    "print('Libraries imported')"
   ]
  },
  {
   "cell_type": "markdown",
   "id": "0d675d0d-4036-4a6e-88bb-58ee895660ff",
   "metadata": {
    "editable": true,
    "slideshow": {
     "slide_type": ""
    },
    "tags": []
   },
   "source": [
    "### General Declarations\n",
    "\n",
    "A few general declarations used throughout the application will be assigned here before moving on. "
   ]
  },
  {
   "cell_type": "code",
   "execution_count": 4,
   "id": "50ca87d9-6030-4909-bdde-0354820c99d8",
   "metadata": {
    "editable": true,
    "slideshow": {
     "slide_type": ""
    },
    "tags": []
   },
   "outputs": [
    {
     "name": "stdout",
     "output_type": "stream",
     "text": [
      "General Declarations assigned\n"
     ]
    }
   ],
   "source": [
    "# %% General Declarations\n",
    "\n",
    "col_index = None #Holds column index\n",
    "ds = None        #Holds currently worked on data slice\n",
    "df = None        #Holds currently worked on data frame\n",
    "\n",
    "print('General Declarations assigned')"
   ]
  },
  {
   "cell_type": "markdown",
   "id": "bf1d21d0-a024-4773-ba2e-c953dfc72a45",
   "metadata": {
    "editable": true,
    "slideshow": {
     "slide_type": ""
    },
    "tags": []
   },
   "source": [
    "### Data Preparation"
   ]
  },
  {
   "cell_type": "markdown",
   "id": "aa0030ba-7b80-4592-855f-c636d70199d6",
   "metadata": {
    "editable": true,
    "raw_mimetype": "",
    "slideshow": {
     "slide_type": ""
    },
    "tags": []
   },
   "source": [
    "#### Import Data\n",
    "\n",
    "We need to import the CSV files we will be working with:\n",
    "- Clients.csv\n",
    "- Appointments.csv\n",
    "\n",
    "The files were prepared before being brought into this application by:\n",
    "- Removing personally identifying information to maintain HIPAA compliance\n",
    "- Correct data inconsistencies that would be more difficult to manage with code\n",
    "- Filled null values that can be deduced from other columns"
   ]
  },
  {
   "cell_type": "code",
   "execution_count": 5,
   "id": "75a35284-6a6a-4c42-a80e-741f6d401e9e",
   "metadata": {
    "editable": true,
    "slideshow": {
     "slide_type": ""
    },
    "tags": []
   },
   "outputs": [
    {
     "name": "stdout",
     "output_type": "stream",
     "text": [
      "Data imported\n"
     ]
    }
   ],
   "source": [
    "# %% Load Raw Data (csv)\n",
    "\n",
    "clientData_raw = pd.read_csv(\"Clients.csv\")\n",
    "appointmentData_raw = pd.read_csv(\"Appointments.csv\")\n",
    "\n",
    "print('Data imported')"
   ]
  },
  {
   "cell_type": "markdown",
   "id": "eaa8ccef-bb60-4d4b-b01e-b57e457c27f5",
   "metadata": {
    "editable": true,
    "raw_mimetype": "",
    "slideshow": {
     "slide_type": ""
    },
    "tags": []
   },
   "source": [
    "#### Filter out insufficient data\n",
    "\n",
    "Because many of the clients in the client data file were inherited from a previous application, most of the data is not assigned to any appointments, which would lead to a flawed model.<br>\n",
    "We will correct this by checking each client account number to see if it exists anywhere in the appointment data.<br>\n",
    "If not, the client will be removed."
   ]
  },
  {
   "cell_type": "code",
   "execution_count": 6,
   "id": "61324a4f-e375-427d-9555-87a81cbff44d",
   "metadata": {
    "editable": true,
    "slideshow": {
     "slide_type": ""
    },
    "tags": []
   },
   "outputs": [
    {
     "name": "stdout",
     "output_type": "stream",
     "text": [
      "Client data filtered\n"
     ]
    }
   ],
   "source": [
    "# %% Filter out clients with no appointment data and reset index\n",
    "\n",
    "clientData_filtered = clientData_raw[clientData_raw['Account_Number']\n",
    "                                     .isin(appointmentData_raw['Account_Number'])]\n",
    "clientData_filtered = clientData_filtered.reset_index(drop=True)\n",
    "\n",
    "# Make copy of filtered data to preprocess\n",
    "clientData = clientData_filtered.copy()\n",
    "\n",
    "print('Client data filtered')"
   ]
  },
  {
   "cell_type": "markdown",
   "id": "b69ea7a8-728a-47f9-b26c-bb6819ca6ba2",
   "metadata": {
    "editable": true,
    "raw_mimetype": "",
    "slideshow": {
     "slide_type": ""
    },
    "tags": []
   },
   "source": [
    "#### Ignore warnings\n",
    "\n",
    "Before cleaning the data further, we will disable some warnings we might get while running the code due to the packages being used.<br>\n",
    "While this may be bad practice, the application has been tested, and this will not cause any harm."
   ]
  },
  {
   "cell_type": "code",
   "execution_count": 7,
   "id": "0de88777-4d4a-46b9-bdfe-5c668911eae3",
   "metadata": {
    "editable": true,
    "slideshow": {
     "slide_type": ""
    },
    "tags": []
   },
   "outputs": [
    {
     "name": "stdout",
     "output_type": "stream",
     "text": [
      "Warnings disabled\n"
     ]
    }
   ],
   "source": [
    "# %% ignore warnings\n",
    "\n",
    "warn.filterwarnings('ignore', category=pd.errors.SettingWithCopyWarning)\n",
    "warn.filterwarnings(\"ignore\", category=UserWarning, module=\"sklearn\")\n",
    "\n",
    "print('Warnings disabled')"
   ]
  },
  {
   "cell_type": "markdown",
   "id": "90e8e6df-8fe5-4a88-9635-b7d5f2c20ea1",
   "metadata": {
    "editable": true,
    "raw_mimetype": "",
    "slideshow": {
     "slide_type": ""
    },
    "tags": []
   },
   "source": [
    "#### Prepare client data\n",
    "\n",
    "We are going to prepare the client data by doing the following:\n",
    "- Convert non-numerical values to Integers\n",
    "    - Logically binary data will be 0s and 1s\n",
    "    - Other data will start at 1\n",
    "- Calculate Age from Birth_Year\n",
    "- Remove columns that will not be used to train the model\n",
    "- Null values will be randomly assigned based on value frequencies.\n",
    "\n",
    "The data is prepared when the data is complete, and the only columns left are:\n",
    "- Account_Number\n",
    "- Zip\n",
    "- Sex\n",
    "- Age\n",
    "- Marital\n",
    "- Employment\n",
    "- Accident\n",
    "- Num_Appts"
   ]
  },
  {
   "cell_type": "markdown",
   "id": "e442b4d6-205d-4bec-8794-b389de944a0f",
   "metadata": {
    "editable": true,
    "raw_mimetype": "",
    "slideshow": {
     "slide_type": ""
    },
    "tags": []
   },
   "source": [
    "##### Rename columns based on use"
   ]
  },
  {
   "cell_type": "code",
   "execution_count": 8,
   "id": "ab2f5356-7610-4373-b18b-e4c596434b1d",
   "metadata": {
    "editable": true,
    "slideshow": {
     "slide_type": ""
    },
    "tags": []
   },
   "outputs": [
    {
     "name": "stdout",
     "output_type": "stream",
     "text": [
      "Columns renamed\n"
     ]
    }
   ],
   "source": [
    "# %% rename columns\n",
    "\n",
    "# Rename 'Sex' to 'c_Sex' so that I can reuse 'Sex'\n",
    "clientData.rename(columns={'Sex': 'c_Sex'}, inplace=True)\n",
    "\n",
    "# Rename 'Zip_PostalCode' to 'Zip' to shorten name or ease of use\n",
    "clientData.rename(columns={'Zip_PostalCode': 'Zip'}, inplace=True)\n",
    "\n",
    "# Rename 'Number_of_Appointments' to 'Num_Appts' to shorten length\n",
    "clientData.rename(columns={'Number_of_Appointments': 'Num_Appts'},\n",
    "                  inplace=True)\n",
    "\n",
    "print('Columns renamed')"
   ]
  },
  {
   "cell_type": "markdown",
   "id": "3f7146ce-45bf-4dde-b960-41472917eed1",
   "metadata": {
    "editable": true,
    "slideshow": {
     "slide_type": ""
    },
    "tags": []
   },
   "source": [
    "##### Convert data to all numerical values"
   ]
  },
  {
   "cell_type": "code",
   "execution_count": 9,
   "id": "0ff65ac2-a9c6-4624-9000-9d0bfc3cd1e7",
   "metadata": {
    "editable": true,
    "slideshow": {
     "slide_type": ""
    },
    "tags": []
   },
   "outputs": [
    {
     "name": "stdout",
     "output_type": "stream",
     "text": [
      "Data converted\n"
     ]
    }
   ],
   "source": [
    "# If sex is M then 1, if F then 2, else nan\n",
    "ds = clientData['c_Sex']\n",
    "clientData.loc[:, 'Sex'] = np.where(ds == 'M', 1, #Male\n",
    "                           np.where(ds == 'F', 2, #Female\n",
    "                           np.where(ds == 'O', 3, #Other\n",
    "                           np.nan)))              #No Entry\n",
    "\n",
    "# Get index of c_Sex and move Sex behind it\n",
    "col_index = clientData.columns.get_loc('c_Sex')\n",
    "clientData.insert(col_index + 1, 'Sex', clientData.pop('Sex'))\n",
    "\n",
    "# %% Add column 'Age' to clientData and calculate 'Age' from Birth_Year\n",
    "\n",
    "# Get current year\n",
    "current_year = datetime.now().year\n",
    "\n",
    "# Where Birth_Year is 1900, age is nan, else age = currentYear - BirthYear\n",
    "clientData.loc[:, 'Age'] = np.where(clientData['Birth_Year'] == 1900,\n",
    "                           np.nan,\n",
    "                           current_year - clientData['Birth_Year'])\n",
    "\n",
    "# Get index of BirthYear and move 'Age' behind it\n",
    "col_index = clientData.columns.get_loc('Birth_Year')\n",
    "clientData.insert(col_index + 1, 'Age', clientData.pop('Age'))\n",
    "\n",
    "# %% Convert Martial Status to Integers\n",
    "\n",
    "# Convert Material Statuses to integers, else nan\n",
    "ds = clientData['Marital_Status']\n",
    "clientData.loc[:, 'Marital'] = np.where(ds == 'M', 1, #Married\n",
    "                               np.where(ds == 'C', 2, #Common-Law\n",
    "                               np.where(ds == 'D', 3, #Divorced\n",
    "                               np.where(ds == 'W', 4, #Widowed\n",
    "                               np.where(ds == 'S', 5, #Single\n",
    "                               np.where(ds == 'O', 6, #Other\n",
    "                               np.nan))))))           #No Entry\n",
    "\n",
    "# Get index of 'Marital_Status' and move 'Marital' behind it\n",
    "col_index = clientData.columns.get_loc('Marital_Status')\n",
    "clientData.insert(col_index + 1, 'Marital', clientData.pop('Marital'))\n",
    "\n",
    "# %% Convert Employment Status to Integers\n",
    "\n",
    "# Convert Employment_Status to integers, else nan\n",
    "ds = clientData['Employment_Status']\n",
    "clientData.loc[:, 'Employment'] = np.where(ds == 'E', 1,  #Employed\n",
    "                                  np.where(ds == 'S', 2,  #Student\n",
    "                                  np.where(ds == 'R', 3,  #Retired\n",
    "                                  np.where(ds == 'UE', 4, #Unemployed\n",
    "                                  np.where(ds == 'O', 5,  #Other\n",
    "                                  np.nan)))))             #No Entry\n",
    "\n",
    "# Get index of 'Employment_Status' and move 'Employment' behind it\n",
    "col_index = clientData.columns.get_loc('Employment_Status')\n",
    "clientData.insert(col_index + 1, 'Employment', clientData.pop('Employment'))\n",
    "\n",
    "# %% Convert 'Is condition due to an accident' to integers\n",
    "\n",
    "# Convert 'Is_condtion_due_to_an_accident' to binary integers, else nan\n",
    "ds = clientData['Is_condition_due_to_an_accident']\n",
    "clientData.loc[:, 'Accident'] = np.where(ds == \"[u'No']\", 0,  #No\n",
    "                                np.where(ds == 'No', 0,       #No\n",
    "                                np.where(ds == \"[u'Yes']\", 1, #Yes\n",
    "                                np.where(ds == 'Yes', 1,      #Yes\n",
    "                                np.nan))))                    #No Entry\n",
    "\n",
    "# Get index of 'Is_condition_due_to_an_accident' and move\"Accident\" behind it\n",
    "col_index = clientData.columns.get_loc('Is_condition_due_to_an_accident')\n",
    "clientData.insert(col_index + 1, 'Accident', clientData.pop('Accident'))\n",
    "\n",
    "print('Data converted')"
   ]
  },
  {
   "cell_type": "markdown",
   "id": "ac669175-e612-4a0d-acc6-75cb80771a9d",
   "metadata": {
    "editable": true,
    "slideshow": {
     "slide_type": ""
    },
    "tags": []
   },
   "source": [
    "##### Remove Unused columns"
   ]
  },
  {
   "cell_type": "code",
   "execution_count": 10,
   "id": "ec88ab05-ae82-4a53-a70a-afc325847fd7",
   "metadata": {
    "editable": true,
    "slideshow": {
     "slide_type": ""
    },
    "tags": []
   },
   "outputs": [
    {
     "name": "stdout",
     "output_type": "stream",
     "text": [
      "Columns removed\n"
     ]
    }
   ],
   "source": [
    "# %% Remove unused columns\n",
    "\n",
    "del clientData['City']\n",
    "del clientData['State_Province']\n",
    "del clientData['Country']\n",
    "del clientData['c_Sex']\n",
    "del clientData['Birth_Year']\n",
    "del clientData['Marital_Status']\n",
    "del clientData['Employment_Status']\n",
    "del clientData['Is_condition_due_to_an_accident']\n",
    "del clientData['Reminder_Preference']\n",
    "del clientData['Subscribed_Reminders']\n",
    "del clientData['Subscribed_Recalls']\n",
    "del clientData['Subscribed_Email_Campaigns']\n",
    "del clientData['Subscribed_Birthday_Campaigns']\n",
    "del clientData['Subscribed_Availability_Campaigns']\n",
    "del clientData['Subscribe_Referral_Campaigns']\n",
    "del clientData['Subscribe_Client_Satisfaction']\n",
    "\n",
    "print('Columns removed')"
   ]
  },
  {
   "cell_type": "markdown",
   "id": "66368418-0ad0-42cd-a335-284a9189ab53",
   "metadata": {
    "editable": true,
    "slideshow": {
     "slide_type": ""
    },
    "tags": []
   },
   "source": [
    "##### Randomly assign null data with values"
   ]
  },
  {
   "cell_type": "code",
   "execution_count": 11,
   "id": "a19914b7-4657-4d97-9a9c-a12608d819cb",
   "metadata": {
    "editable": true,
    "slideshow": {
     "slide_type": ""
    },
    "tags": []
   },
   "outputs": [
    {
     "name": "stdout",
     "output_type": "stream",
     "text": [
      "Null values filled\n",
      " \n",
      "     Account_Number      Zip  Sex   Age  Marital  Employment  Accident  \\\n",
      "0              3303  98403.0  2.0  78.0      1.0         3.0       0.0   \n",
      "1              3043  98406.0  2.0  68.0      1.0         3.0       0.0   \n",
      "2               136  98467.0  2.0  64.0      3.0         1.0       0.0   \n",
      "3              4913  98467.0  1.0  59.0      1.0         1.0       0.0   \n",
      "4              4795  98409.0  1.0  33.0      1.0         2.0       0.0   \n",
      "..              ...      ...  ...   ...      ...         ...       ...   \n",
      "478            4811  98467.0  2.0  38.0      5.0         1.0       1.0   \n",
      "479            3645  98498.0  2.0  73.0      3.0         3.0       0.0   \n",
      "480            4886  98023.0  2.0  44.0      1.0         5.0       0.0   \n",
      "481            4975  98445.0  1.0  51.0      1.0         3.0       0.0   \n",
      "482            4976  98445.0  2.0  65.0      1.0         3.0       0.0   \n",
      "\n",
      "     Num_Appts  \n",
      "0          2.0  \n",
      "1          9.0  \n",
      "2          3.0  \n",
      "3          2.0  \n",
      "4          4.0  \n",
      "..         ...  \n",
      "478        3.0  \n",
      "479       46.0  \n",
      "480        1.0  \n",
      "481        3.0  \n",
      "482        8.0  \n",
      "\n",
      "[483 rows x 8 columns]\n"
     ]
    }
   ],
   "source": [
    "# %% Randomly assign values to NaNs based on Frequency of values in same column\n",
    "\n",
    "# Fills NaNs based on how often other values in a column occur to maintain distribution\n",
    "def fill_na_with_frequencies(series, value_counts):\n",
    "    na_indices = series[series.isna()].index\n",
    "    fill_values = np.random.choice(value_counts.index, size=len(na_indices), p=value_counts.values)\n",
    "    series.loc[na_indices] = fill_values\n",
    "    return series\n",
    "\n",
    "# Zip Codes\n",
    "ds = clientData['Zip']\n",
    "value_counts = ds.value_counts(normalize=True)\n",
    "ds = fill_na_with_frequencies(ds, value_counts)\n",
    "\n",
    "# Sex\n",
    "ds = clientData['Sex']\n",
    "value_counts = ds.value_counts(normalize=True)\n",
    "ds = fill_na_with_frequencies(ds, value_counts)\n",
    "\n",
    "# Age\n",
    "ds = clientData['Age']\n",
    "value_counts = ds.value_counts(normalize=True)\n",
    "ds = fill_na_with_frequencies(ds, value_counts)\n",
    "\n",
    "# Marital_Status\n",
    "ds = clientData['Marital']\n",
    "value_counts = ds.value_counts(normalize=True)\n",
    "ds = fill_na_with_frequencies(ds, value_counts)\n",
    "\n",
    "# Employment_Status\n",
    "ds = clientData['Employment']\n",
    "value_counts = ds.value_counts(normalize=True)\n",
    "ds = fill_na_with_frequencies(ds, value_counts)\n",
    "\n",
    "# Is condition caused by accident\n",
    "ds = clientData['Accident']\n",
    "value_counts = ds.value_counts(normalize=True)\n",
    "ds = fill_na_with_frequencies(ds, value_counts)\n",
    "\n",
    "print('Null values filled')\n",
    "print(' ')\n",
    "print(clientData)"
   ]
  },
  {
   "cell_type": "markdown",
   "id": "477be4ff-322c-4b53-b8a9-982150168f4c",
   "metadata": {
    "editable": true,
    "raw_mimetype": "",
    "slideshow": {
     "slide_type": ""
    },
    "tags": []
   },
   "source": [
    "##### --Zip Code distribution--\n",
    "\n",
    "Here's a bar diagram of the distribution of Zip codes where clients live.<br>\n",
    "I chose this visualization because after training the data, we learned that Zip Codes had the most impact on our predictions (<i>shown later</i>).<br>\n",
    "This came as a surprise to us and disproved our hypothesis that age had the most significant impact."
   ]
  },
  {
   "cell_type": "code",
   "execution_count": 12,
   "id": "0c67c25c-0ede-4f8b-a530-61cf6b7b9957",
   "metadata": {
    "editable": true,
    "slideshow": {
     "slide_type": ""
    },
    "tags": []
   },
   "outputs": [
    {
     "data": {
      "image/png": "[encoded data removed]",
      "text/plain": [
       "<Figure size 1000x600 with 1 Axes>"
      ]
     },
     "metadata": {},
     "output_type": "display_data"
    }
   ],
   "source": [
    "# %% Zip Codes visualization\n",
    "\n",
    "# Get zip code counts\n",
    "zip_counts = clientData['Zip'].astype(int).value_counts()\n",
    "top_15 = zip_counts.nlargest(15)\n",
    "Other = zip_counts.iloc[15:].sum()\n",
    "top_15['Other'] = Other\n",
    "\n",
    "# Set up plot\n",
    "plt.figure(figsize=(10, 6))\n",
    "top_15.plot(kind='bar', color='skyblue')\n",
    "plt.xlabel('Zip Code')\n",
    "plt.ylabel('Frequency')\n",
    "plt.title('Zip Codes with Highest Value Counts')\n",
    "plt.xticks(rotation=45)\n",
    "plt.show()"
   ]
  },
  {
   "cell_type": "markdown",
   "id": "86e47621-539f-4d2f-9375-328c698c0b0c",
   "metadata": {
    "editable": true,
    "raw_mimetype": "",
    "slideshow": {
     "slide_type": ""
    },
    "tags": []
   },
   "source": [
    "#### Prepare Appointment Data\n",
    "\n",
    "We are going to prepare the client data by doing the following:\n",
    "- Convert the Date Timestamp to DateTime format\n",
    "- Extract Year, Quarter, Month, Day_of_Week, Day, and Hour from the Date\n",
    "- Convert non-numerical values to Integers\n",
    "    - Logically binary data will be 0s and 1s\n",
    "    - Other data will start at 1\n",
    "    - Length will represent the length of the appointment in minutes (30, 60, 90)\n",
    "- Adding columns 'No_Show' and 'Cancelled'\n",
    "- Remove columns that will not be used to train the model\n",
    "- Null values will be randomly assigned based on value frequencies.\n",
    "\n",
    "The data is prepared when the data is complete, and the only columns left are:\n",
    "- Account_Number\n",
    "- Practitioner\n",
    "- Year\n",
    "- Quarter\n",
    "- Month\n",
    "- Day_of_Week\n",
    "- Day\n",
    "- Hour\n",
    "- Service\n",
    "- No_Show\n",
    "- Cancelled"
   ]
  },
  {
   "cell_type": "markdown",
   "id": "9abe43bf-1414-449c-97fa-3cdea4ef4278",
   "metadata": {
    "editable": true,
    "slideshow": {
     "slide_type": ""
    },
    "tags": []
   },
   "source": [
    "##### Rename columns based on use"
   ]
  },
  {
   "cell_type": "code",
   "execution_count": 13,
   "id": "960a9d70-b571-4b97-8587-5dbb321fcbfc",
   "metadata": {
    "editable": true,
    "slideshow": {
     "slide_type": ""
    },
    "tags": []
   },
   "outputs": [
    {
     "name": "stdout",
     "output_type": "stream",
     "text": [
      "Columns renamed\n"
     ]
    }
   ],
   "source": [
    "# %% Copy AppointmentData_raw\n",
    "\n",
    "appointmentData = appointmentData_raw.copy()\n",
    "\n",
    "# %% Rename columns\n",
    "\n",
    "# Rename 'Service' to 'a_Service' so that 'Service' can be reused\n",
    "appointmentData.rename(columns={'Service': 'a_Service'}, inplace=True)\n",
    "\n",
    "# Rename 'Status' to 'a_Status' so that 'Status' can be reused\n",
    "appointmentData.rename(columns={'Status': 'a_Status'}, inplace=True)\n",
    "\n",
    "print('Columns renamed')"
   ]
  },
  {
   "cell_type": "markdown",
   "id": "77ad811f-848e-4eeb-bb1d-fdcab342668f",
   "metadata": {
    "editable": true,
    "slideshow": {
     "slide_type": ""
    },
    "tags": []
   },
   "source": [
    "##### Extract Date information"
   ]
  },
  {
   "cell_type": "code",
   "execution_count": 14,
   "id": "a4ce237f-1778-470c-b8b0-d708ea443e8d",
   "metadata": {
    "editable": true,
    "slideshow": {
     "slide_type": ""
    },
    "tags": []
   },
   "outputs": [
    {
     "name": "stdout",
     "output_type": "stream",
     "text": [
      "Date information extracted\n"
     ]
    }
   ],
   "source": [
    "# %% Set appointmentData[Date] to Datetime format\n",
    "\n",
    "appointmentData['Date'] = pd.to_datetime(appointmentData['Date'], format='%b %d, %Y @ %I:%M%p')\n",
    "\n",
    "# %% Extract Pieces of DateTime object and add columns for them\n",
    "\n",
    "# Extract Year, Quarter, Month, DayOfWeek, and Hour and add columns\n",
    "appointmentData['Year'] = appointmentData['Date'].dt.year\n",
    "appointmentData['Quarter'] = appointmentData['Date'].dt.quarter\n",
    "appointmentData['Month'] = appointmentData['Date'].dt.month\n",
    "appointmentData['Str_Day_of_Week'] = appointmentData['Date'].dt.day_name()\n",
    "appointmentData['Hour'] = appointmentData['Date'].dt.hour\n",
    "\n",
    "# convert Day_of_Week to Integer Format\n",
    "ds = appointmentData['Str_Day_of_Week']\n",
    "appointmentData.loc[:, 'Day_of_Week'] = np.where(ds == 'Sunday', 0,\n",
    "                                        np.where(ds == 'Monday', 1,\n",
    "                                        np.where(ds == 'Tuesday', 2,\n",
    "                                        np.where(ds == 'Wednesday', 3,\n",
    "                                        np.where(ds == 'Thursday', 4,\n",
    "                                        np.where(ds == 'Friday', 5,\n",
    "                                        np.where(ds == 'Saturday', 6,\n",
    "                                        np.nan)))))))\n",
    "\n",
    "# Get index of 'Str_Day_of_Week' and insert 'Day_of_Week' behind it\n",
    "col_index = appointmentData.columns.get_loc('Str_Day_of_Week')\n",
    "appointmentData.insert(col_index + 1, 'Day_of_Week', appointmentData.pop('Day_of_Week'))\n",
    "\n",
    "print('Date information extracted')"
   ]
  },
  {
   "cell_type": "markdown",
   "id": "d71c7fac-2702-4f24-ace3-a9a3eaf2e652",
   "metadata": {
    "editable": true,
    "slideshow": {
     "slide_type": ""
    },
    "tags": []
   },
   "source": [
    "##### Create array of services"
   ]
  },
  {
   "cell_type": "code",
   "execution_count": 15,
   "id": "6815438b-3176-4be0-99ca-8eaca5d3d4d5",
   "metadata": {
    "editable": true,
    "slideshow": {
     "slide_type": ""
    },
    "tags": []
   },
   "outputs": [
    {
     "name": "stdout",
     "output_type": "stream",
     "text": [
      "Service Array Created\n"
     ]
    }
   ],
   "source": [
    "# %% List Services to help convert to Integer format\n",
    "\n",
    "services = ['30 minute 30 Minute Add-On',\n",
    "            '60 minute Deep Tissue Massage',\n",
    "            '60 minute Relaxation Massage',\n",
    "            '60 minute Pregnancy Massage',\n",
    "            '60 minute Insurance Massage',\n",
    "            '60 minute Pregnancy Insurance Massage',\n",
    "            '60 minute L&amp;I Massage',\n",
    "            '60 minute Motor Vehicle Accident (MVA) Massage',\n",
    "            '90 minute Deep Tissue Massage',\n",
    "            '90 minute Relaxation Massage',\n",
    "            '90 minute Insurance Massage',\n",
    "            '90 minute Pregnancy Insurance Massage'\n",
    "            ]\n",
    "\n",
    "print('Service Array Created')"
   ]
  },
  {
   "cell_type": "markdown",
   "id": "dc869a6b-c3d8-4a1d-968d-2c3c6eb1c2a5",
   "metadata": {
    "editable": true,
    "slideshow": {
     "slide_type": ""
    },
    "tags": []
   },
   "source": [
    "##### Convert Data to Integers"
   ]
  },
  {
   "cell_type": "code",
   "execution_count": 16,
   "id": "8010af12-0dcc-422c-82e2-86bcd6ff6657",
   "metadata": {
    "editable": true,
    "slideshow": {
     "slide_type": ""
    },
    "tags": []
   },
   "outputs": [
    {
     "name": "stdout",
     "output_type": "stream",
     "text": [
      "Data converted\n"
     ]
    }
   ],
   "source": [
    "# %% Convert Services to integers\n",
    "\n",
    "# Search for a value in array and return index\n",
    "def find_index(value, array):\n",
    "    try:\n",
    "        return array.index(value)\n",
    "    except ValueError:\n",
    "        return -1\n",
    "\n",
    "# Add column 'Service' and convert values to Integers base on index in\n",
    "# services[] sharing same value\n",
    "ds = appointmentData['a_Service']\n",
    "appointmentData['Service'] = ds.apply(lambda x: find_index(x, services))\n",
    "\n",
    "# %% Add column 'Length' with values based on length of services in minutes\n",
    "\n",
    "# Search for value in array return integer based on index of value\n",
    "def find_length(value, array):\n",
    "    try:\n",
    "        arg_30 = (array.index(value) == 0)\n",
    "        arg_60 = ((array.index(value) >= 1) and (array.index(value) <= 7))\n",
    "        arg_90 = ((array.index(value) >= 8) and (array.index(value) <= 11))\n",
    "        \n",
    "        if arg_30:\n",
    "            return 30\n",
    "        if arg_60:\n",
    "            return 60\n",
    "        if arg_90:\n",
    "            return 90\n",
    "    except ValueError:\n",
    "        np.nan\n",
    "   \n",
    "# Add column 'Length' and assign each row an integer that reflect the length\n",
    "# of that appointments service provided in minutes\n",
    "ds = appointmentData['a_Service']\n",
    "appointmentData['Length'] = ds.apply(lambda x: find_length(x, services))\n",
    "\n",
    "# %% Add column 'Insurance' with integer based on if service is an\n",
    "#    insurance massage\n",
    "\n",
    "# Search for value in array and return binary Integer based on index of value\n",
    "def find_insurance(value, array):\n",
    "    try:\n",
    "        arg_0_1 = ((array.index(value) >= 0) and (array.index(value) <= 3))\n",
    "        arg_0_2 = ((array.index(value) >= 8) and (array.index(value) <= 9))\n",
    "        arg_1_1 = ((array.index(value) >= 4) and (array.index(value) <= 7))\n",
    "        arg_1_2 = ((array.index(value) >= 10) and (array.index(value) <= 11))\n",
    "        \n",
    "        if (arg_0_1 or arg_0_2):\n",
    "            return 0\n",
    "        if (arg_1_1 or arg_1_2):\n",
    "            return 1\n",
    "    except ValueError:\n",
    "        np.nan\n",
    "\n",
    "# Add column 'Insurance' and assign each row a binary Integer based on if the\n",
    "# service of that appointment is an insurance massage\n",
    "ds = appointmentData['a_Service']\n",
    "appointmentData['Insurance'] = ds.apply(lambda x: find_insurance(x, services))\n",
    "\n",
    "# %% Add column 'Status' and assign Integer based on appointments Status\n",
    "\n",
    "ds = appointmentData['a_Status']\n",
    "appointmentData.loc[:, 'Status'] = np.where(ds == 'PAID', 1,\n",
    "                                       np.where(ds == 'DUE', 1,\n",
    "                                       np.where(ds == 'CANCELLED', 2,\n",
    "                                       np.where(ds == 'NO SHOW', 3,\n",
    "                                       np.nan))))\n",
    "\n",
    "print('Data converted')"
   ]
  },
  {
   "cell_type": "markdown",
   "id": "f40721f0-871f-4f3c-b0e3-353dd70a00fe",
   "metadata": {
    "editable": true,
    "slideshow": {
     "slide_type": ""
    },
    "tags": []
   },
   "source": [
    "##### Add No-Shows and Cancellations"
   ]
  },
  {
   "cell_type": "code",
   "execution_count": 17,
   "id": "fd17f731-965f-46e3-a0a0-b1f3f527a245",
   "metadata": {
    "editable": true,
    "slideshow": {
     "slide_type": ""
    },
    "tags": []
   },
   "outputs": [
    {
     "name": "stdout",
     "output_type": "stream",
     "text": [
      "No_Show and Cancelled added\n"
     ]
    }
   ],
   "source": [
    "# %% Add column 'No_Show' and assign Binary Integer based on if the client\n",
    "#    No-Showed the appointment\n",
    "\n",
    "ds = appointmentData['a_Status']\n",
    "appointmentData.loc[:, 'No_Show'] = np.where(ds == 'NO SHOW', 1, 0)\n",
    "\n",
    "# %% Add column 'Cancellation' and assign Binary Integer based on if the\n",
    "#    client cancelled the appointment\n",
    "\n",
    "ds = appointmentData['a_Status']\n",
    "appointmentData.loc[:, 'Cancelled'] = np.where(ds == 'CANCELLED', 1, 0)\n",
    "\n",
    "print('No_Show and Cancelled added')"
   ]
  },
  {
   "cell_type": "markdown",
   "id": "32ea6a06-f9c5-4b09-b9c1-52e24126d79f",
   "metadata": {
    "editable": true,
    "slideshow": {
     "slide_type": ""
    },
    "tags": []
   },
   "source": [
    "##### Deleted unused Columns"
   ]
  },
  {
   "cell_type": "code",
   "execution_count": 18,
   "id": "da609a14-54c5-4777-8626-15c615fdf434",
   "metadata": {
    "editable": true,
    "slideshow": {
     "slide_type": ""
    },
    "tags": []
   },
   "outputs": [
    {
     "name": "stdout",
     "output_type": "stream",
     "text": [
      "Columns deleted\n",
      "\n",
      "      Account_Number  Practitioner  Year  Quarter  Month  Day_of_Week  Hour  \\\n",
      "0                122             3  2022        2      6          5.0     9   \n",
      "1                122             3  2022        2      5          5.0     9   \n",
      "2                122             3  2022        2      4          5.0     9   \n",
      "3                122             3  2022        1      3          2.0     9   \n",
      "4                122             3  2022        1      3          2.0    11   \n",
      "...              ...           ...   ...      ...    ...          ...   ...   \n",
      "4818            1008             1  2023        4     10          4.0    14   \n",
      "4819            4762             1  2022        4     12          4.0     9   \n",
      "4820            4762             1  2022        3      9          2.0     9   \n",
      "4821            4762             1  2022        3      9          2.0    12   \n",
      "4822               3             1  2022        1      1          1.0    11   \n",
      "\n",
      "      Service  Length  Insurance  Status  No_Show  Cancelled  \n",
      "0           1      60          0     3.0        1          0  \n",
      "1           1      60          0     1.0        0          0  \n",
      "2           4      60          1     1.0        0          0  \n",
      "3           4      60          1     1.0        0          0  \n",
      "4           4      60          1     1.0        0          0  \n",
      "...       ...     ...        ...     ...      ...        ...  \n",
      "4818        4      60          1     1.0        0          0  \n",
      "4819        4      60          1     1.0        0          0  \n",
      "4820        4      60          1     1.0        0          0  \n",
      "4821        4      60          1     1.0        0          0  \n",
      "4822        4      60          1     1.0        0          0  \n",
      "\n",
      "[4823 rows x 13 columns]\n"
     ]
    }
   ],
   "source": [
    "# %% Remove unused columns\n",
    "\n",
    "del appointmentData['Date']\n",
    "del appointmentData['Str_Day_of_Week']\n",
    "del appointmentData['a_Service']\n",
    "del appointmentData['a_Status']\n",
    "\n",
    "print('Columns deleted')\n",
    "print('')\n",
    "print(appointmentData)"
   ]
  },
  {
   "cell_type": "markdown",
   "id": "fd839085-107f-4f0d-9c7c-9e4b33b439b5",
   "metadata": {
    "editable": true,
    "raw_mimetype": "",
    "slideshow": {
     "slide_type": ""
    },
    "tags": []
   },
   "source": [
    "##### --Appointment Status Distribution--\n",
    "\n",
    "Here, we will display a pie chart showing the distribution of completed appointments compared to No-Shows and Cancellations.<br>\n",
    "<br>\n",
    "We can see that about a fifth of appointments are canceled or no-shows, with cancellations making up most of the fifth.<br>\n",
    "So, while initially, we focused on developing this application to help develop business strategies to prevent no-shows, it looks as though we should move our focus to cancellations."
   ]
  },
  {
   "cell_type": "code",
   "execution_count": 19,
   "id": "7dc1cfc3-75af-4e6a-bbd2-97b0dd6de99d",
   "metadata": {
    "editable": true,
    "slideshow": {
     "slide_type": ""
    },
    "tags": []
   },
   "outputs": [
    {
     "data": {
      "image/png": "[encoded data removed]",
      "text/plain": [
       "<Figure size 800x800 with 1 Axes>"
      ]
     },
     "metadata": {},
     "output_type": "display_data"
    }
   ],
   "source": [
    "# %% Status visualization\n",
    "\n",
    "# Get counts of each status\n",
    "status_counts = appointmentData['Status'].value_counts()\n",
    "\n",
    "# Create custom labels\n",
    "custom_labels = ['Completed Appointments', 'Cancelled Appointments', 'No-Shows']\n",
    "\n",
    "# Set up plot\n",
    "plt.figure(figsize=(8,8))\n",
    "status_counts.plot.pie(labels=custom_labels, autopct='%1.1f%%', startangle=90, colors=['lightgreen', 'skyblue', 'lightcoral'])\n",
    "plt.title('Appointment Status Distribution')\n",
    "plt.ylabel('')  # Hide the y-label\n",
    "plt.show()"
   ]
  },
  {
   "cell_type": "markdown",
   "id": "8762f624-7f51-4a6d-8751-99cc917938d4",
   "metadata": {
    "editable": true,
    "slideshow": {
     "slide_type": ""
    },
    "tags": []
   },
   "source": [
    "#### Join Data\n",
    "\n",
    "The prepared client and appointment data must be joined together to make a single dataset.<br>\n",
    "We will do this by joining the client data to the appointment data using account_number.<br>\n",
    "Afterwards, the account numbers can be removed."
   ]
  },
  {
   "cell_type": "code",
   "execution_count": 20,
   "id": "757f7d27-826d-455b-a2e5-52dad801a7a8",
   "metadata": {
    "editable": true,
    "slideshow": {
     "slide_type": ""
    },
    "tags": []
   },
   "outputs": [
    {
     "name": "stdout",
     "output_type": "stream",
     "text": [
      "Data joined\n",
      " \n",
      "      Practitioner  Year  Quarter  Month  Day_of_Week  Hour  Service  Length  \\\n",
      "0                3  2022        2      6          5.0     9        1      60   \n",
      "1                3  2022        2      5          5.0     9        1      60   \n",
      "2                3  2022        2      4          5.0     9        4      60   \n",
      "3                3  2022        1      3          2.0     9        4      60   \n",
      "4                3  2022        1      3          2.0    11        4      60   \n",
      "...            ...   ...      ...    ...          ...   ...      ...     ...   \n",
      "4818             1  2023        4     10          4.0    14        4      60   \n",
      "4819             1  2022        4     12          4.0     9        4      60   \n",
      "4820             1  2022        3      9          2.0     9        4      60   \n",
      "4821             1  2022        3      9          2.0    12        4      60   \n",
      "4822             1  2022        1      1          1.0    11        4      60   \n",
      "\n",
      "      Insurance  Status  No_Show  Cancelled      Zip  Sex   Age  Marital  \\\n",
      "0             0     3.0        1          0  98499.0  2.0  55.0      1.0   \n",
      "1             0     1.0        0          0  98499.0  2.0  55.0      1.0   \n",
      "2             1     1.0        0          0  98499.0  2.0  55.0      1.0   \n",
      "3             1     1.0        0          0  98499.0  2.0  55.0      1.0   \n",
      "4             1     1.0        0          0  98499.0  2.0  55.0      1.0   \n",
      "...         ...     ...      ...        ...      ...  ...   ...      ...   \n",
      "4818          1     1.0        0          0  98466.0  2.0  48.0      1.0   \n",
      "4819          1     1.0        0          0  98498.0  1.0  59.0      1.0   \n",
      "4820          1     1.0        0          0  98498.0  1.0  59.0      1.0   \n",
      "4821          1     1.0        0          0  98498.0  1.0  59.0      1.0   \n",
      "4822          1     1.0        0          0  98466.0  1.0  58.0      1.0   \n",
      "\n",
      "      Employment  Accident  Num_Appts  \n",
      "0            3.0       0.0        8.0  \n",
      "1            3.0       0.0        8.0  \n",
      "2            3.0       0.0        8.0  \n",
      "3            3.0       0.0        8.0  \n",
      "4            3.0       0.0        8.0  \n",
      "...          ...       ...        ...  \n",
      "4818         1.0       0.0        8.0  \n",
      "4819         1.0       0.0        4.0  \n",
      "4820         1.0       0.0        4.0  \n",
      "4821         1.0       0.0        4.0  \n",
      "4822         1.0       1.0        3.0  \n",
      "\n",
      "[4823 rows x 19 columns]\n"
     ]
    }
   ],
   "source": [
    "# %% Join dataframes and remove columns that may reduce accuracy\n",
    "\n",
    "# join clients table to appointments table by account number\n",
    "joinedData = pd.merge(appointmentData, clientData, on='Account_Number', how='left')\n",
    "\n",
    "# remove account numbers\n",
    "del joinedData['Account_Number']\n",
    "\n",
    "print('Data joined')\n",
    "print(' ')\n",
    "print(joinedData)"
   ]
  },
  {
   "cell_type": "markdown",
   "id": "c7784bdb-6a98-4ec9-b719-3a39c52fcdbb",
   "metadata": {
    "editable": true,
    "raw_mimetype": "",
    "slideshow": {
     "slide_type": ""
    },
    "tags": []
   },
   "source": [
    "##### --Status of appointment by Age Group--\n",
    "\n",
    "Here, we will show a bar plot showing the status of appointments by age group.<br>\n",
    "<br>\n",
    "The visualization shows that individuals around retirement age make a majority of appointments.<br>\n",
    "It also shows that Completed appointments compared to No-Shows and Cancellations are proportionate across each age group.<br>\n",
    "<br>\n",
    "No-shows and cancellations increase on the chart's far ends, indicating that the retirement group makes the most appointments.<br>\n",
    "This shows that age does play some factor, as stated in our hypothesis, but not as much as expected."
   ]
  },
  {
   "cell_type": "code",
   "execution_count": 21,
   "id": "a6f39a60-2a91-4158-ba9e-78de8ffc5de5",
   "metadata": {
    "editable": true,
    "slideshow": {
     "slide_type": ""
    },
    "tags": []
   },
   "outputs": [
    {
     "data": {
      "image/png": "[encoded data removed]",
      "text/plain": [
       "<Figure size 1200x800 with 1 Axes>"
      ]
     },
     "metadata": {},
     "output_type": "display_data"
    }
   ],
   "source": [
    "# %% Age Buckets visualization\n",
    "\n",
    "df = joinedData\n",
    "\n",
    "# Create age buckets\n",
    "bins = [0, 10, 20, 30, 40, 50, 60, 70, 80, 90, 100]\n",
    "labels = ['1-10', '11-20', '21-30', '31-40', '41-50',\n",
    "          '51-60', '61-70', '71-80', '81-90', '91-100']\n",
    "df['Age_Group'] = pd.cut(df['Age'], bins=bins, labels=labels, right=False)\n",
    "\n",
    "# Count the occurrences of each status within each age bucket\n",
    "age_status_counts = df.groupby(['Age_Group', 'Status'], observed=False).size().reset_index(name='Count')\n",
    "\n",
    "# Plot the bar chart\n",
    "plt.figure(figsize=(12, 8))\n",
    "sns.barplot(data=age_status_counts, x='Age_Group', y='Count', hue='Status', palette='viridis')\n",
    "plt.xlabel('Age Group')\n",
    "plt.ylabel('Number of Appointments')\n",
    "plt.title('Appointment Status by Age Group')\n",
    "plt.xticks(rotation=45)\n",
    "\n",
    "# Change Key names in legend\n",
    "new_labels = ['Completed Appointments', 'Cancelled Appointments', 'No-Shows']\n",
    "handles, labels = plt.gca().get_legend_handles_labels()\n",
    "plt.legend(handles, new_labels, title='Appointment Status')\n",
    "\n",
    "plt.show()\n",
    "\n",
    "del df['Age_Group']"
   ]
  },
  {
   "cell_type": "markdown",
   "id": "6dd506c3-656c-41cc-8d59-a4db3001ad68",
   "metadata": {
    "editable": true,
    "slideshow": {
     "slide_type": ""
    },
    "tags": []
   },
   "source": [
    "### Train Model\n",
    "\n",
    "The data has been prepared, and we can train our machine-learning model now.<br>\n",
    "<br>\n",
    "The model we will be using is the Random Forest Classifier model.<br>\n",
    "Our dataset is small, and Random Forest will help prevent overfitting data.<br>\n",
    "<br>\n",
    "We will train our model by:\n",
    "- Removing any leftover columns that may negatively affect training (this took some trial and error)\n",
    "- Setting our dependent variable\n",
    "- Splitting our data into a training set and test set\n",
    "    - A 9:1 split worked best for our data\n",
    "- Apply SMOTETomek to resample and balance data\n",
    "- Train model\n",
    "    - We're going to be using a calibrated Random Forest Classifier model (CalibratedClassifierCV)\n",
    "\n",
    "We will train two models, one for No-Shows and one for Cancellations."
   ]
  },
  {
   "cell_type": "markdown",
   "id": "ef638fae-ee3f-41f1-bfcc-d931419e730b",
   "metadata": {
    "editable": true,
    "slideshow": {
     "slide_type": ""
    },
    "tags": []
   },
   "source": [
    "#### Remove unwanted columns\n",
    "We will remove any columns that may negatively affect data, usually because they are not as relevant as the rest.<br>\n",
    "Status will be assigned to a variable so we can use it later for visualizations."
   ]
  },
  {
   "cell_type": "code",
   "execution_count": 22,
   "id": "ff487efd-904c-4e1f-802a-1ed2a3729920",
   "metadata": {
    "editable": true,
    "slideshow": {
     "slide_type": ""
    },
    "tags": []
   },
   "outputs": [
    {
     "name": "stdout",
     "output_type": "stream",
     "text": [
      "Unwanted columns removed\n"
     ]
    }
   ],
   "source": [
    "# %% Remove Unwanted columns\n",
    "\n",
    "status = joinedData.pop('Status') # saving this for visualization\n",
    "del joinedData['Year']\n",
    "del joinedData['Num_Appts']\n",
    "\n",
    "print('Unwanted columns removed')"
   ]
  },
  {
   "cell_type": "markdown",
   "id": "2489e2e9-9227-4ef6-8ef5-f2ae8052dc97",
   "metadata": {
    "editable": true,
    "raw_mimetype": "",
    "slideshow": {
     "slide_type": ""
    },
    "tags": []
   },
   "source": [
    "#### Copy Joined data into two sets\n",
    "We are going to copy joined data into two sets.<br>\n",
    "<br>\n",
    "One set will be for No-Shows, shown with a '_n' at the end of the assignment.<br>\n",
    "The second set will be for Cancellations, shown with a '_c' at the end of the assignment.<br>\n",
    "<br>\n",
    "We will continue the criteria as we advance to differentiate the datasets."
   ]
  },
  {
   "cell_type": "code",
   "execution_count": 23,
   "id": "3ddceee7-34af-4185-bb8b-ea3e8b2a1ef4",
   "metadata": {
    "editable": true,
    "slideshow": {
     "slide_type": ""
    },
    "tags": []
   },
   "outputs": [
    {
     "name": "stdout",
     "output_type": "stream",
     "text": [
      "joinedData copied\n"
     ]
    }
   ],
   "source": [
    "# %% Copy joinedData to train to different models, one for No_Show and one\n",
    "#    for Cancellations and remove their opposing columns\n",
    "\n",
    "# DataFrame to predict No_Show\n",
    "joinedData_n = joinedData.copy()\n",
    "del joinedData_n['Cancelled']\n",
    "\n",
    "# DataFrame to predict Cancellation\n",
    "joinedData_c = joinedData.copy()\n",
    "del joinedData_c['No_Show']\n",
    "\n",
    "print('joinedData copied')"
   ]
  },
  {
   "cell_type": "markdown",
   "id": "38111e9e-42be-482b-b69d-aa15baae67a1",
   "metadata": {
    "editable": true,
    "slideshow": {
     "slide_type": ""
    },
    "tags": []
   },
   "source": [
    "#### Normalize data\n",
    "Now, we will normalize the data to improve model performance by taking the smallest values and largest values from each column and squishing them down to a range from 0 to 1.<br>\n",
    "<br>\n",
    "We chose this method instead of a StandardScaler() because the standard scaler had too significant outliers, leading to flawed predictions."
   ]
  },
  {
   "cell_type": "code",
   "execution_count": 24,
   "id": "f75f51b6-409e-4be6-914a-02ba0f3f77d1",
   "metadata": {
    "editable": true,
    "slideshow": {
     "slide_type": ""
    },
    "tags": []
   },
   "outputs": [
    {
     "name": "stdout",
     "output_type": "stream",
     "text": [
      "Data normalized\n",
      " \n",
      "      Practitioner   Quarter     Month  Day_of_Week      Hour   Service  \\\n",
      "0              1.0  0.333333  0.454545          0.8  0.071429  0.090909   \n",
      "1              1.0  0.333333  0.363636          0.8  0.071429  0.090909   \n",
      "2              1.0  0.333333  0.272727          0.8  0.071429  0.363636   \n",
      "3              1.0  0.000000  0.181818          0.2  0.071429  0.363636   \n",
      "4              1.0  0.000000  0.181818          0.2  0.214286  0.363636   \n",
      "...            ...       ...       ...          ...       ...       ...   \n",
      "4818           0.0  1.000000  0.818182          0.6  0.428571  0.363636   \n",
      "4819           0.0  1.000000  1.000000          0.6  0.071429  0.363636   \n",
      "4820           0.0  0.666667  0.727273          0.2  0.071429  0.363636   \n",
      "4821           0.0  0.666667  0.727273          0.2  0.285714  0.363636   \n",
      "4822           0.0  0.000000  0.000000          0.0  0.214286  0.363636   \n",
      "\n",
      "      Length  Insurance  No_Show       Zip  Sex       Age  Marital  \\\n",
      "0        0.5        0.0      1.0  0.863495  1.0  0.581081      0.0   \n",
      "1        0.5        0.0      0.0  0.863495  1.0  0.581081      0.0   \n",
      "2        0.5        1.0      0.0  0.863495  1.0  0.581081      0.0   \n",
      "3        0.5        1.0      0.0  0.863495  1.0  0.581081      0.0   \n",
      "4        0.5        1.0      0.0  0.863495  1.0  0.581081      0.0   \n",
      "...      ...        ...      ...       ...  ...       ...      ...   \n",
      "4818     0.5        1.0      0.0  0.859021  1.0  0.486486      0.0   \n",
      "4819     0.5        1.0      0.0  0.863359  0.0  0.635135      0.0   \n",
      "4820     0.5        1.0      0.0  0.863359  0.0  0.635135      0.0   \n",
      "4821     0.5        1.0      0.0  0.863359  0.0  0.635135      0.0   \n",
      "4822     0.5        1.0      0.0  0.859021  0.0  0.621622      0.0   \n",
      "\n",
      "      Employment  Accident  \n",
      "0            0.5       0.0  \n",
      "1            0.5       0.0  \n",
      "2            0.5       0.0  \n",
      "3            0.5       0.0  \n",
      "4            0.5       0.0  \n",
      "...          ...       ...  \n",
      "4818         0.0       0.0  \n",
      "4819         0.0       0.0  \n",
      "4820         0.0       0.0  \n",
      "4821         0.0       0.0  \n",
      "4822         0.0       1.0  \n",
      "\n",
      "[4823 rows x 15 columns]\n"
     ]
    }
   ],
   "source": [
    "# %% Normalize dataframes to range between 0 and 1\n",
    "\n",
    "# assign for normalizing\n",
    "# these will be used later on user input\n",
    "jdn = joinedData_n\n",
    "jdc = joinedData_c\n",
    "\n",
    "# normalize\n",
    "joinedData_n = (jdn - jdn.min()) / (jdn.max() - jdn.min())\n",
    "joinedData_c = (jdc - jdc.min()) / (jdc.max() - jdc.min())\n",
    "\n",
    "print('Data normalized')\n",
    "print(' ')\n",
    "print(joinedData_n)"
   ]
  },
  {
   "cell_type": "markdown",
   "id": "8266c180-6352-4c02-ac78-6882decf02d7",
   "metadata": {
    "editable": true,
    "raw_mimetype": "",
    "slideshow": {
     "slide_type": ""
    },
    "tags": []
   },
   "source": [
    "#### Set dependent variables\n",
    "\n",
    "This is where we choose the dependent variables we train our model to predict.<br>\n",
    "Again, those variables will be No-Show and Cancellations."
   ]
  },
  {
   "cell_type": "code",
   "execution_count": 25,
   "id": "0158f85b-777c-45af-aab5-aeff23526431",
   "metadata": {
    "editable": true,
    "slideshow": {
     "slide_type": ""
    },
    "tags": []
   },
   "outputs": [
    {
     "name": "stdout",
     "output_type": "stream",
     "text": [
      "Dependent variables assigned\n"
     ]
    }
   ],
   "source": [
    "# %% Set dependent variables for training\n",
    "\n",
    "# No_Shows\n",
    "x_n = joinedData_n.drop('No_Show', axis=1)\n",
    "y_n = joinedData_n['No_Show']\n",
    "\n",
    "# Cancellations\n",
    "x_c = joinedData_c.drop('Cancelled', axis=1)\n",
    "y_c = joinedData_c['Cancelled']\n",
    "\n",
    "print('Dependent variables assigned')"
   ]
  },
  {
   "cell_type": "markdown",
   "id": "fabfe481-f27b-4e65-9ab4-5c4e29ffa9dc",
   "metadata": {
    "editable": true,
    "slideshow": {
     "slide_type": ""
    },
    "tags": []
   },
   "source": [
    "#### Split data samples for training\n",
    "\n",
    "This is where we split the data sets into training and test samples.<br>\n",
    "After some testing, the datasets were split 9:1 since this ratio seemed to have the best model performance.<br>\n",
    "<br>\n",
    "<i>Note: a variable is assigned here for a random_state number to standardize the randomization throughout training and verification of the model</i><br>\n",
    "<i>Note: training sets converted to NumPy arrays to prevent error during cross-validation later</i>"
   ]
  },
  {
   "cell_type": "code",
   "execution_count": 26,
   "id": "1954b4dd-0b6a-447c-b754-3139a0f12bcb",
   "metadata": {
    "editable": true,
    "slideshow": {
     "slide_type": ""
    },
    "tags": []
   },
   "outputs": [
    {
     "name": "stdout",
     "output_type": "stream",
     "text": [
      "Data split\n"
     ]
    }
   ],
   "source": [
    "# %% Choose a random_state number to apply to training\n",
    "\n",
    "rs = 42\n",
    "\n",
    "# %% Split data sets into train and test samples\n",
    "#    Note: Splitting 9:1 seemed to have the best AUC-ROC results\n",
    "\n",
    "x_train_n, x_test_n, y_train_n, y_test_n = train_test_split(x_n, y_n, test_size=0.1, random_state=rs)\n",
    "x_train_c, x_test_c, y_train_c, y_test_c = train_test_split(x_c, y_c, test_size=0.1, random_state=rs)\n",
    "\n",
    "# convert to NumPy arrays for cross-validation\n",
    "x_train_n = x_train_n.values\n",
    "y_train_n = y_train_n.values\n",
    "\n",
    "print('Data split')"
   ]
  },
  {
   "cell_type": "markdown",
   "id": "c96b9e9a-9d3a-48cf-8de1-b148954bc737",
   "metadata": {
    "editable": true,
    "slideshow": {
     "slide_type": ""
    },
    "tags": []
   },
   "source": [
    "#### Resample data\n",
    "\n",
    "Here, we apply SMOTETomek to resample and balance our data.\n",
    "\n",
    "SMOTETomek takes our training samples and resamples them by oversampling minority classes and undersampling majority classes to fix any imbalance in the data."
   ]
  },
  {
   "cell_type": "code",
   "execution_count": 27,
   "id": "a3bebd17-7f75-4424-9aaf-f0ae5cfc9e3a",
   "metadata": {
    "editable": true,
    "slideshow": {
     "slide_type": ""
    },
    "tags": []
   },
   "outputs": [
    {
     "name": "stdout",
     "output_type": "stream",
     "text": [
      "Data resampled\n"
     ]
    }
   ],
   "source": [
    "# %% Apply SMOTETomek to data to balance data\n",
    "\n",
    "smt = SMOTETomek(random_state=rs)\n",
    "x_train_n, y_train_n = smt.fit_resample(x_train_n, y_train_n)\n",
    "x_train_c, y_train_c = smt.fit_resample(x_train_c, y_train_c)\n",
    "\n",
    "print('Data resampled')"
   ]
  },
  {
   "cell_type": "markdown",
   "id": "57291698-14d4-4a3b-8f11-855529dcc5af",
   "metadata": {
    "editable": true,
    "slideshow": {
     "slide_type": ""
    },
    "tags": []
   },
   "source": [
    "#### Create strategy and train model\n",
    "\n",
    "We're going to train our model using the calibrated RandomForestClassifier Method.<br>\n",
    "<br>\n",
    "The RandomForestClassifier creates decision trees (500 in our case) that are trained on random subsets of the data.<br>\n",
    "This will help prevent bias in our prediction caused by outliers, especially with a small dataset.<br>\n",
    "<br>\n",
    "The CalibratedClassifierCV() method calibrates the RandomForestClassifier model by first fitting the model.<br>\n",
    "Then, it cross-validates the model to adjust the predicted probabilities to match the actual probabilities of the data better.<br>\n",
    "Once again, this will help with using a small dataset."
   ]
  },
  {
   "cell_type": "code",
   "execution_count": 28,
   "id": "dad3ced6-9a95-4557-909c-e0367a078829",
   "metadata": {
    "editable": true,
    "slideshow": {
     "slide_type": ""
    },
    "tags": []
   },
   "outputs": [
    {
     "name": "stdout",
     "output_type": "stream",
     "text": [
      " \n",
      "training and calibrating Random Forest (approximately: 1.5 minutes)\n",
      "...\n",
      "Random forests trained and calibrated\n"
     ]
    }
   ],
   "source": [
    "# %% Train and Calibrate RandomForestClassifier Algorithms\n",
    "\n",
    "# base estimator\n",
    "rfc_n = RandomForestClassifier(n_estimators=500,\n",
    "                             random_state=rs, class_weight='balanced')\n",
    "rfc_c = RandomForestClassifier(n_estimators=500,\n",
    "                             random_state=rs, class_weight='balanced')\n",
    "\n",
    "# training strategy\n",
    "cccv_n = CalibratedClassifierCV(rfc_n, method='sigmoid')\n",
    "cccv_c = CalibratedClassifierCV(rfc_c, method='sigmoid')\n",
    "\n",
    "print(' ')\n",
    "print('training and calibrating Random Forest (approximately: 1.5 minutes)')\n",
    "print('...')\n",
    "\n",
    "# train model\n",
    "cccv_n.fit(x_train_n, y_train_n)\n",
    "cccv_c.fit(x_train_c, y_train_c)\n",
    "\n",
    "print('Random forests trained and calibrated')"
   ]
  },
  {
   "cell_type": "markdown",
   "id": "151ce1d9-ce4b-4ab5-bf09-480a7a2f14cd",
   "metadata": {},
   "source": [
    "#### --Get AUC-ROC scores--\n",
    "\n",
    "Here, we will test some predictions and get our AUC-ROC scores.<br>\n",
    "<br>\n",
    "The purpose is to test some predictions and get a rating of true positives compared to false positives to get an idea of how well our algorithm is performing.<br>\n",
    "We can see here that the No-Show curve is getting an <i>\"acceptable\"</i> rating around 70%, especially for a small dataset, while the Cancellation curve is slightly underperforming around 65%.<br>\n",
    "These will change every time we re-run this application because of how we fill out the null data in our data sets, but the rating does not deviate too much."
   ]
  },
  {
   "cell_type": "code",
   "execution_count": 29,
   "id": "68af8ff2-5eb2-4a08-bc9a-9af0719220f8",
   "metadata": {},
   "outputs": [
    {
     "name": "stdout",
     "output_type": "stream",
     "text": [
      "No-Show AUC-ROC: 0.7027537796976241\n",
      "Cancellation AUC-ROC: 0.6363706160555249\n"
     ]
    },
    {
     "data": {
      "image/png": "[encoded data removed]",
      "text/plain": [
       "<Figure size 640x480 with 1 Axes>"
      ]
     },
     "metadata": {},
     "output_type": "display_data"
    }
   ],
   "source": [
    "# %% Get models AUC-ROC scored\n",
    "\n",
    "y_test_proba_n = cccv_n.predict_proba(x_test_n)[:, 1]\n",
    "auc_roc_n = roc_auc_score(y_test_n, y_test_proba_n)\n",
    "print('No-Show ' + f'AUC-ROC: {auc_roc_n}')\n",
    "\n",
    "y_test_proba_c = cccv_c.predict_proba(x_test_c)[:, 1]\n",
    "auc_roc_c = roc_auc_score(y_test_c, y_test_proba_c)\n",
    "print('Cancellation ' + f'AUC-ROC: {auc_roc_c}')\n",
    "\n",
    "# %% ROC_Curve\n",
    "\n",
    "plt.figure()\n",
    "\n",
    "# Plot No-Show Roc_curve\n",
    "fpr, tpr, _ = roc_curve(y_test_n, y_test_proba_n)\n",
    "roc_auc = auc(fpr, tpr)\n",
    "plt.plot(fpr, tpr, color='red', lw=2, label=f'No-Show ROC curve (area = {roc_auc:.2f})')\n",
    "\n",
    "# Plot Cancellation Roc_curce\n",
    "fpr, tpr, _ = roc_curve(y_test_c, y_test_proba_c)\n",
    "roc_auc = auc(fpr, tpr)\n",
    "plt.plot(fpr, tpr, color='aqua', lw=2, label=f'Cancellation ROC curve (area = {roc_auc:.2f})')\n",
    "\n",
    "# Plot line of no-discrimination\n",
    "plt.plot([0, 1], [0, 1], color='navy', lw=2, linestyle='--')\n",
    "\n",
    "# build plot\n",
    "plt.xlim([0.0, 1.0])\n",
    "plt.ylim([0.0, 1.05])\n",
    "plt.xlabel('False Positive Rate')\n",
    "plt.ylabel('True Positive Rate')\n",
    "plt.title('Receiver Operating Characteristic')\n",
    "plt.legend(loc='lower right')\n",
    "plt.show()"
   ]
  },
  {
   "cell_type": "markdown",
   "id": "bcce3ef9-583d-4f94-9ac9-d69ef2240599",
   "metadata": {},
   "source": [
    "#### Cross-validation\n",
    "\n",
    "Now we're going to cross-validation to evaluate and improve our model.<br>\n",
    "<br>\n",
    "I'm going to use StratifiedKFold to cross-validate the model using two k-folds.<br>\n",
    "While the standard is five k-folds, we will only use two k-folds to reduce the computation time significantly."
   ]
  },
  {
   "cell_type": "code",
   "execution_count": 30,
   "id": "4139623e-6bf1-4d5c-a207-7256b03ecbf2",
   "metadata": {},
   "outputs": [
    {
     "name": "stdout",
     "output_type": "stream",
     "text": [
      " \n",
      "running cross-validation test on No-Show Model (approximately: 1 minute)\n",
      "...\n",
      " \n",
      "Cross-validated No-Show AUC-ROC scores: [np.float64(0.9886524493831672), np.float64(0.9979336631351845)]\n",
      "Mean No-Show AUC-ROC: 0.9901793529860946\n",
      " \n",
      "running cross-validation test on Cancellation Model (approximately: 1 minute)\n",
      "...\n",
      " \n",
      "Cross-validated Cancellation AUC-ROC scores: [np.float64(0.9886524493831672), np.float64(0.9979336631351845)]\n",
      "Mean Cancellation AUC-ROC: 0.9901793529860946\n",
      " \n",
      "Model Cross-validated\n"
     ]
    }
   ],
   "source": [
    "# %% Cross-validate model\n",
    "#    Note: using cv=2 to speed up method\n",
    "\n",
    "# Cross-validation strategy\n",
    "skf = StratifiedKFold(n_splits=2)\n",
    "mean_fpr = np.linspace(0, 1, 100)\n",
    "\n",
    "print(' ')\n",
    "print('running cross-validation test on No-Show Model (approximately: 1 minute)')\n",
    "print('...')\n",
    "\n",
    "tprs = [] # Store true positive ratings\n",
    "aucs = [] # Store AUCs\n",
    "\n",
    "# For each split, fold data and measure auc\n",
    "for train, test in skf.split(x_train_n, y_train_n):\n",
    "    \n",
    "    # assign folded data\n",
    "    x_train_fold = x_train_n[train]\n",
    "    y_train_fold = y_train_n[train]\n",
    "    x_test_fold = x_train_n[test]\n",
    "    y_test_fold = y_train_n[test]\n",
    "\n",
    "    # Train and predict current fold\n",
    "    cccv_n.fit(x_train_fold, y_train_fold)\n",
    "    y_pred_proba_skf = cccv_n.predict_proba(x_test_fold)[:, 1]\n",
    "    \n",
    "    # calculate roc_curve for current fold and store true positive ratings\n",
    "    fpr_skf, tpr_skf, _ = roc_curve(y_test_fold, y_pred_proba_skf)\n",
    "    tprs.append(np.interp(mean_fpr, fpr_skf, tpr_skf))\n",
    "    tprs[-1][0] = 0.0\n",
    "    \n",
    "    #calculate area under the ROC curve and store it\n",
    "    roc_auc_skf = auc(fpr_skf, tpr_skf)\n",
    "    aucs.append(roc_auc_skf)\n",
    "\n",
    "# Calculate mean and standard deviation of the AUCs\n",
    "mean_tpr_n = np.mean(tprs, axis=0)\n",
    "mean_tpr_n[-1] = 1.0\n",
    "mean_auc_n = auc(mean_fpr, mean_tpr_n)\n",
    "std_auc_n = np.std(aucs)\n",
    "\n",
    "print(' ')\n",
    "print(f'Cross-validated No-Show AUC-ROC scores: {aucs}')\n",
    "print(f'Mean No-Show AUC-ROC: {mean_auc_n}')\n",
    "\n",
    "print(' ')\n",
    "print('running cross-validation test on Cancellation Model (approximately: 1 minute)')\n",
    "print('...')\n",
    "\n",
    "tprs = [] # Store true positive ratings\n",
    "aucs = [] # Store AUCs\n",
    "\n",
    "# For each split, fold data and measure auc\n",
    "for train, test in skf.split(x_train_n, y_train_n):\n",
    "    \n",
    "    # assign folded data\n",
    "    x_train_fold = x_train_n[train]\n",
    "    y_train_fold = y_train_n[train]\n",
    "    x_test_fold = x_train_n[test]\n",
    "    y_test_fold = y_train_n[test]\n",
    "\n",
    "    # Train and predict current fold\n",
    "    cccv_n.fit(x_train_fold, y_train_fold)\n",
    "    y_pred_proba_skf = cccv_n.predict_proba(x_test_fold)[:, 1]\n",
    "    \n",
    "    # calculate roc_curve for current fold and store true positive ratings\n",
    "    fpr_skf, tpr_skf, _ = roc_curve(y_test_fold, y_pred_proba_skf)\n",
    "    tprs.append(np.interp(mean_fpr, fpr_skf, tpr_skf))\n",
    "    tprs[-1][0] = 0.0\n",
    "    \n",
    "    #calculate area under the ROC curve and store it\n",
    "    roc_auc_skf = auc(fpr_skf, tpr_skf)\n",
    "    aucs.append(roc_auc_skf)\n",
    "\n",
    "# Calculate mean and standard deviation of the AUCs\n",
    "mean_tpr_c = np.mean(tprs, axis=0)\n",
    "mean_tpr_c[-1] = 1.0\n",
    "mean_auc_c = auc(mean_fpr, mean_tpr_c)\n",
    "std_auc_c = np.std(aucs)\n",
    "\n",
    "print(' ')\n",
    "print(f'Cross-validated Cancellation AUC-ROC scores: {aucs}')\n",
    "print(f'Mean Cancellation AUC-ROC: {mean_auc_c}')\n",
    "\n",
    "print(' ')\n",
    "print('Model Cross-validated')"
   ]
  },
  {
   "cell_type": "markdown",
   "id": "c53cea99-069b-4f6c-be3e-d1ae6220118b",
   "metadata": {},
   "source": [
    "#### --Compare Cross-validation AUC-ROC scores to first AUC-ROC scores--\n",
    "\n",
    "Here is where we compare our original ROC curves to our new Cross-validated ROC curves.<br>\n",
    "<br>\n",
    "We will take the previous ROC curve graph and apply the new cross-validated ROC curves to it for comparison<br>\n",
    "In the graph, we will see that cross-validation significantly improves the model and allows it to make near-perfect predictions based on the data given."
   ]
  },
  {
   "cell_type": "code",
   "execution_count": 31,
   "id": "5293f32a-7baf-40b7-b779-5cbbe5c851ab",
   "metadata": {},
   "outputs": [
    {
     "data": {
      "image/png": "[encoded data removed]",
      "text/plain": [
       "<Figure size 640x480 with 1 Axes>"
      ]
     },
     "metadata": {},
     "output_type": "display_data"
    }
   ],
   "source": [
    "# %% Cross-validated ROC_Curve\n",
    "\n",
    "plt.figure()\n",
    "\n",
    "# Plot No-Show Roc_curve\n",
    "fpr, tpr, _ = roc_curve(y_test_n, y_test_proba_n)\n",
    "roc_auc = auc(fpr, tpr)\n",
    "plt.plot(fpr, tpr, color='red', lw=2, label=f'No-Show ROC curve (area = {roc_auc:.2f})')\n",
    "\n",
    "# Plot Cancellation Roc_curce\n",
    "fpr, tpr, _ = roc_curve(y_test_c, y_test_proba_c)\n",
    "roc_auc = auc(fpr, tpr)\n",
    "plt.plot(fpr, tpr, color='aqua', lw=2, label=f'Cancellation ROC curve (area = {roc_auc:.2f})')\n",
    "\n",
    "# Plot Cross-validation Roc_curves\n",
    "plt.plot(mean_fpr, mean_tpr_n, color='blue', lw=2, linestyle='-', label=f'Mean CV ROC curve (area = {mean_auc_n:.2f} ± {std_auc_n:.2f})')\n",
    "plt.plot(mean_fpr, mean_tpr_c, color='purple', lw=2, linestyle='-', label=f'Mean CV ROC curve (area = {mean_auc_c:.2f} ± {std_auc_c:.2f})')\n",
    "\n",
    "# Plot line of no-discrimination\n",
    "plt.plot([0, 1], [0, 1], color='navy', lw=2, linestyle='--')\n",
    "\n",
    "# build plot\n",
    "plt.xlim([0.0, 1.0])\n",
    "plt.ylim([0.0, 1.05])\n",
    "plt.xlabel('False Positive Rate')\n",
    "plt.ylabel('True Positive Rate')\n",
    "plt.title('Receiver Operating Characteristic')\n",
    "plt.legend(loc='lower right')\n",
    "plt.show()"
   ]
  },
  {
   "cell_type": "markdown",
   "id": "25313f21-c057-45e7-a64c-54e0bc1fb3b2",
   "metadata": {},
   "source": [
    "#### --Feature Importance--\n",
    "\n",
    "Here, we will show two horizontal bar graphs that show the feature importance for each model<br>\n",
    "This model is how we discovered that the clients' zip code of residence is the most critical factor in dictating how likely they are to no-show or cancel.<br>\n",
    "Using this information, we may infer that socio-economic conditions dictate the clients' behavior."
   ]
  },
  {
   "cell_type": "code",
   "execution_count": 32,
   "id": "2178212a-222c-442d-9910-abccbfa561a9",
   "metadata": {},
   "outputs": [
    {
     "data": {
      "image/png": "[encoded data removed]",
      "text/plain": [
       "<Figure size 1000x600 with 1 Axes>"
      ]
     },
     "metadata": {},
     "output_type": "display_data"
    },
    {
     "data": {
      "image/png": "[encoded data removed]",
      "text/plain": [
       "<Figure size 1000x600 with 1 Axes>"
      ]
     },
     "metadata": {},
     "output_type": "display_data"
    }
   ],
   "source": [
    "# %% Feature Importance Visualization\n",
    "\n",
    "# Get Feature importances from estimator (Random Forest)\n",
    "importances = cccv_n.calibrated_classifiers_[0].estimator.feature_importances_\n",
    "indices = np.argsort(importances)\n",
    "\n",
    "# Create plot\n",
    "plt.figure(figsize=(10, 6))\n",
    "plt.title('Feature Importances for No-Shows')\n",
    "plt.barh(range(len(indices)), importances[indices], align='center')\n",
    "plt.yticks(range(len(indices)), [x_n.columns[i] for i in indices])\n",
    "plt.xlabel('Relative Importance')\n",
    "plt.show()\n",
    "\n",
    "# Get Feature importances from estimator (Random Forest)\n",
    "importances = cccv_c.calibrated_classifiers_[0].estimator.feature_importances_\n",
    "indices = np.argsort(importances)\n",
    "\n",
    "# Create plot\n",
    "plt.figure(figsize=(10, 6))\n",
    "plt.title('Feature Importances for Cancellations')\n",
    "plt.barh(range(len(indices)), importances[indices], align='center')\n",
    "plt.yticks(range(len(indices)), [x_n.columns[i] for i in indices])\n",
    "plt.xlabel('Relative Importance')\n",
    "plt.show()"
   ]
  },
  {
   "cell_type": "markdown",
   "id": "bbf58e2a-8bbb-40aa-af9f-78f10420a564",
   "metadata": {},
   "source": [
    "#### --Prediction Probabilities Distribution--\n",
    "\n",
    "Here, we will see the distribution of probabilities.<br>\n",
    "We can see that both curves are hyperbolas with many outliers over 20% probability.\n",
    "We can also see that both distributions are similar."
   ]
  },
  {
   "cell_type": "code",
   "execution_count": 33,
   "id": "f98f70c0-84b7-4d0c-8d07-2e4e1bd64eda",
   "metadata": {},
   "outputs": [
    {
     "data": {
      "image/png": "[encoded data removed]",
      "text/plain": [
       "<Figure size 640x480 with 1 Axes>"
      ]
     },
     "metadata": {},
     "output_type": "display_data"
    },
    {
     "data": {
      "image/png": "[encoded data removed]",
      "text/plain": [
       "<Figure size 640x480 with 1 Axes>"
      ]
     },
     "metadata": {},
     "output_type": "display_data"
    }
   ],
   "source": [
    "# %% Distribution of probabilities visualization\n",
    "\n",
    "# Show distribution of probabilities\n",
    "sns.histplot(y_test_proba_n, kde=True)\n",
    "plt.xlabel('Predicted Probability of No-Shows')\n",
    "plt.title('Distribution of Predicted Probabilities')\n",
    "plt.show()\n",
    "\n",
    "# Show distribution of probabilities\n",
    "sns.histplot(y_test_proba_c, kde=True)\n",
    "plt.xlabel('Predicted Probability of Cancellations')\n",
    "plt.title('Distribution of Predicted Probabilities')\n",
    "plt.show()"
   ]
  },
  {
   "cell_type": "markdown",
   "id": "943fe701-94dc-4599-9c62-0e263cb11b5e",
   "metadata": {},
   "source": [
    "## Knowledge gained\n",
    "\n",
    "From the data shown, we learned a few important things:\n",
    "- Zip code is the most critical factor when considering how likely a client will no-show or cancel an appointment\n",
    "- No-shows and cancellations make up a fifth of appointment data.\n",
    "- There are four times as many cancels as no-shows.\n",
    "- Appointment status by age group is pretty even among different age groups.\n",
    "- Most appointments are from clients around retirement age\n",
    "- Retirement-age clients are the most likely to show up to appointments.\n",
    "- The distribution of predicted probabilities between no-shows and cancellations are similar.\n",
    "\n",
    "With this knowledge, we know that our hypothesis is wrong and that age is the most critical factor in determining how likely a client is to no-show or cancel an appointment.<br>\n",
    "We discovered that the client's zip code of residence is the most critical determining factor.<br>\n",
    "The reason for this could be due to socio-economic factors."
   ]
  },
  {
   "cell_type": "markdown",
   "id": "7245c946-1310-428d-b71b-d0a49d817858",
   "metadata": {},
   "source": [
    "## Future Improvements\n",
    "\n",
    "- Re-train and adjust machine-learning strategies as the size of the data increases.\n",
    "- Develop strategies to automate data cleaning so a human won't have correct inconsistencies before uploading the data.\n",
    "- Develop a new strategy to standardize the handling of null values when cleaning data to improve the consistency of training and make it less random."
   ]
  }
 ],
 "metadata": {
  "kernelspec": {
   "display_name": "Python 3 (ipykernel)",
   "language": "python",
   "name": "python3"
  },
  "language_info": {
   "codemirror_mode": {
    "name": "ipython",
    "version": 3
   },
   "file_extension": ".py",
   "mimetype": "text/x-python",
   "name": "python",
   "nbconvert_exporter": "python",
   "pygments_lexer": "ipython3",
   "version": "3.10.14"
  },
  "panel-cell-order": [
   "f68239e8-487c-4b48-b16d-507e233b1586",
   "ce627121-d978-470f-bfe1-bd87ba831a94",
   "baff360c-12b9-4d23-b037-1ad41de075c9",
   "f6d8de80-581f-4f39-9bf9-738d9ce0b289",
   "fac3c8d4-f151-4ab8-8f86-5aa172bedc8a",
   "6db97929-beff-4ad1-bc04-bc1200a8256b",
   "a78a9433-af74-414b-a7b3-7a7c4e107c72",
   "ad7cdc8d-1ccb-4b20-8e2a-03c362a98a5b",
   "1a238c38-2c77-4818-b0f4-cc9ce4f583db",
   "31909653-46fc-4f9d-a414-f3c756742fc3",
   "fa0a0336-0f1d-4111-aef2-b755d2b11bff",
   "2b083cc3-ed64-423e-8f55-fee6cd1dd9f6",
   "7e89c718-cfd5-40b9-8b21-464adbe96eff",
   "8b808feb-2885-4939-a515-16086d1ff7cb",
   "f2aa19d4-c2db-4b94-8b2e-53f4ba89f49c"
  ]
 },
 "nbformat": 4,
 "nbformat_minor": 5
}
